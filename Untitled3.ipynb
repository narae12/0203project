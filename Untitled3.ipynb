{
  "nbformat": 4,
  "nbformat_minor": 0,
  "metadata": {
    "colab": {
      "provenance": []
    },
    "kernelspec": {
      "name": "python3",
      "display_name": "Python 3"
    },
    "language_info": {
      "name": "python"
    }
  },
  "cells": [
    {
      "cell_type": "code",
      "source": [
        "# 사각형 넓이 구하기\n",
        "\n",
        "#클래스 만들기\n",
        "class Square:\n",
        "    def __init__(self):\n",
        "        self.square = int(input('넓이를 구하고 싶은 숫자를 입력해주세요. \\n 1.직사각형 2. 평행사변형 3.사다리꼴 \\n >>>'))\n",
        "\n",
        "        if self.square == 1:\n",
        "            print('직사각형 함수는 rect()입니다.')  # Square 클래스에 rect() 메서드를 추가합니다.\n",
        "        elif self.square == 2:\n",
        "             print('평행사변형 함수는 par()입니다.')  # Square 클래스에 par() 메서드를 추가합니다.\n",
        "        elif self.square == 3:\n",
        "            print('사다리꼴 함수는 trape()입니다.')  # Square 클래스에 trape() 메서드를 추가합니다.\n",
        "        else:\n",
        "            print('1, 2, 3 중에서 다시 입력해주세요')\n",
        "\n",
        "\n",
        "    def rect(self):\n",
        "        width, vertical = map(int,input('가로, 세로를 입력하세요. 예시: 가로,세로\\n >>>').split(','))\n",
        "        area = width*vertical\n",
        "        result = '직사각형의 넓이는 : ' + area\n",
        "        return result\n",
        "\n",
        "    def par(self):\n",
        "        bottom, height = map(int,input('밑변, 높이를 입력하세요. 예시: 밑변, 높이\\n >>>').split(','))\n",
        "        area = bottom*height\n",
        "        result = '평행사변형의 넓이는 : ' + str(area)\n",
        "        return result\n",
        "\n",
        "    def trape(self):\n",
        "        bottom, upper, height = map(int, input('밑변, 윗변, 높이를 입력하세요. 예시: 밑변,윗변,높이 \\n >>>').split(','))\n",
        "        area = (bottom+upper) * height / 2\n",
        "        result = '사다리꼴의 넓이는 : ' + str(area)\n",
        "        return result"
      ],
      "metadata": {
        "id": "8fB54AcdTmXS"
      },
      "execution_count": null,
      "outputs": []
    },
    {
      "cell_type": "code",
      "source": [
        "a = Square()"
      ],
      "metadata": {
        "colab": {
          "base_uri": "https://localhost:8080/"
        },
        "id": "nkxiPip-XmQl",
        "outputId": "f93e2548-b206-416c-d039-bf476e8753d1"
      },
      "execution_count": null,
      "outputs": [
        {
          "output_type": "stream",
          "name": "stdout",
          "text": [
            "넓이를 구하고 싶은 숫자를 입력해주세요. \n",
            " 1.직사각형 2. 평행사변형 3.사다리꼴 \n",
            " >>>2\n",
            "평행사변형 함수는 par()입니다.\n"
          ]
        }
      ]
    },
    {
      "cell_type": "code",
      "source": [
        "a.par()"
      ],
      "metadata": {
        "colab": {
          "base_uri": "https://localhost:8080/",
          "height": 71
        },
        "id": "FPIojfzfXwGC",
        "outputId": "ef129540-cc93-403d-eca0-5be506d4b5a9"
      },
      "execution_count": null,
      "outputs": [
        {
          "name": "stdout",
          "output_type": "stream",
          "text": [
            "밑변, 높이를 입력하세요. 예시: 밑변, 높이\n",
            " >>>3,4\n"
          ]
        },
        {
          "output_type": "execute_result",
          "data": {
            "text/plain": [
              "'평행사변형의 넓이는 : 12'"
            ],
            "application/vnd.google.colaboratory.intrinsic+json": {
              "type": "string"
            }
          },
          "metadata": {},
          "execution_count": 3
        }
      ]
    },
    {
      "cell_type": "code",
      "source": [
        "#키오스크 만들기 프로젝트\n",
        "# 주문 번호 코드로 출력\n",
        "print('⟝' + '-' * 30 + '⟞')\n",
        "print('|' + ' ' * 31 + '|')\n",
        "print('|' + ' ' * 31 + '|')\n",
        "print('|' + ' ' * 31 + '|')\n",
        "print('|' + ' ' * 31 + '|')\n",
        "print('상품명 : HOT 아메리카노')\n",
        "print('총 주문 금액 : 1500원')\n",
        "print('|' + ' ' * 31 + '|')\n",
        "print('|' + ' ' * 31 + '|')\n",
        "print('|' + ' ' * 31 + '|')\n",
        "print('|' + ' ' * 31 + '|')\n",
        "print('⟝' + '-' * 30 + '⟞')"
      ],
      "metadata": {
        "colab": {
          "base_uri": "https://localhost:8080/"
        },
        "id": "bMg531G2ZHA9",
        "outputId": "475f59fc-3865-4ef2-cdcb-9bb6d4852261"
      },
      "execution_count": null,
      "outputs": [
        {
          "output_type": "stream",
          "name": "stdout",
          "text": [
            "⟝------------------------------⟞\n",
            "|                               |\n",
            "|                               |\n",
            "|                               |\n",
            "|                               |\n",
            "상품명 : HOT 아메리카노\n",
            "총 주문 금액 : 1500원\n",
            "|                               |\n",
            "|                               |\n",
            "|                               |\n",
            "|                               |\n",
            "⟝------------------------------⟞\n"
          ]
        }
      ]
    },
    {
      "cell_type": "code",
      "source": [
        "# 커피 메뉴와 가격\n",
        "coffee = ['americano', 'latte', 'mocha']\n",
        "c_price = [2000, 3000, 3000]\n",
        "\n",
        "# 논커피 메뉴와 가격\n",
        "non_coffee = ['yuza_tea', 'green_tea', 'choco_latte']\n",
        "n_price = [2500, 2500, 3000]"
      ],
      "metadata": {
        "id": "v6S-8ThMZxTp"
      },
      "execution_count": null,
      "outputs": []
    },
    {
      "cell_type": "code",
      "source": [
        "# 전체 메뉴와 가격\n",
        "menu = ['americano', 'latte', 'mocha', 'yuza_tea', 'green_tea', 'choco_latte']\n",
        "price = [2000, 3000, 3000, 2500, 2500, 3000]"
      ],
      "metadata": {
        "id": "ZEcnV1iBZyzt"
      },
      "execution_count": null,
      "outputs": []
    },
    {
      "cell_type": "code",
      "source": [
        "menu[3:]+price[3:]"
      ],
      "metadata": {
        "colab": {
          "base_uri": "https://localhost:8080/"
        },
        "id": "oBx5X2MfZ0eJ",
        "outputId": "92aec21e-4e2f-4c86-bee7-61b2eae4b3b3"
      },
      "execution_count": null,
      "outputs": [
        {
          "output_type": "execute_result",
          "data": {
            "text/plain": [
              "['yuza_tea', 'green_tea', 'choco_latte', 2500, 2500, 3000]"
            ]
          },
          "metadata": {},
          "execution_count": 7
        }
      ]
    },
    {
      "cell_type": "code",
      "source": [
        "import datetime\n",
        "import time\n",
        "# 추가 음료의 온도를 입력받고, 가격 리스트와 주문 리스트, 합계 금액을 업데이트합니다.\n",
        "class Kiosk:\n",
        "    def __init__(self):\n",
        "        # 문제 2-1의 답을 입력하세요.\n",
        "        self.menu = menu\n",
        "        self.price = price\n",
        "        self.order_menu = []  # 주문 리스트\n",
        "        self.order_price = []  # 가격 리스트\n",
        "        self.price_sum = 0  # 합계 금액\n",
        "\n",
        "    # 메뉴 출력 메서드\n",
        "    def menu_print(self):\n",
        "        for i in range(len(self.menu)):\n",
        "            print(i + 1, self.menu[i], ' : ', self.price[i], '원')\n",
        "\n",
        "    def menu_select(self):\n",
        "        self.order_menu = []  # 주문 리스트\n",
        "        self.order_price = []  # 가격 리스트\n",
        "\n",
        "        n = 0\n",
        "        while n < 1 or len(menu) < n:\n",
        "            n = int(input(\"음료를 번호를 입력하세요 : \"))  # 음료 번호 입력\n",
        "\n",
        "            # 메뉴판에 있는 음료 번호일 때\n",
        "            if 1 <= n & n <= len(menu):\n",
        "                self.order_price.append(self.price[n-1])  # 가격 리스트에 추가합니다.\n",
        "                self.price_sum = self.price[n-1]  # 합계 금액\n",
        "\n",
        "            # 메뉴판에 없는 번호일 때\n",
        "            else:\n",
        "                print(\"없는 메뉴입니다. 다시 주문해 주세요.\")\n",
        "\n",
        "\n",
        "        # 음료 온도 물어보기\n",
        "        t = 0  # 기본값을 넣어주고\n",
        "        while t != 1 and t != 2:  # 1이나 2를 입력할 때까지 물어보기\n",
        "            t= int(input(\"HOT 음료는 1을, ICE 음료는 2를 입력하세요 : \"))\n",
        "            # 문제 2-3의 답을 입력하세요.\n",
        "            if t == 1:\n",
        "                self.temp = 'hot'\n",
        "            elif t ==2:\n",
        "                self.temp = 'ice'\n",
        "            else:\n",
        "                print(\"1과 2 중 하나를 입력하세요.\\n\")\n",
        "\n",
        "        self.order_menu.append(self.temp + ' ' + self.menu[n-1])  # 주문 리스트에 추가합니다.\n",
        "        # 문제 2-2의 답을 입력하세요.\n",
        "        print(self.temp, self.menu[n-1], ' : ', self.price[n-1], '원')  # 온도 속성을 추가한 주문 결과를 출력합니다.\n",
        "\n",
        "        # 추가 주문 또는 지불\n",
        "        while n != 0:  # 지불을 선택하기 전까지 반복합니다.\n",
        "            print()  # 줄 바꾸면서\n",
        "            n = int(input(\"추가 주문은 음료 번호를, 지불은 0을 누르세요 : \"))  # 추가 주문 또는 지불\n",
        "            if n > 0 and n < len(self.menu) + 1:\n",
        "                # 추가 음료 온도\n",
        "                # 문제 2-4. 추가 음료의 온도를 입력받고, 가격 리스트, 주문 리스트, 합계 금액을 업데이트해보세요.\n",
        "                while True:\n",
        "                    t=int(input('hot =1 , ice = 2 입력하세요. : '))\n",
        "                    if t ==1:\n",
        "                        self.temp = 'hot'\n",
        "                        break\n",
        "                    elif t ==2:\n",
        "                        self.temp  = 'ice'\n",
        "                        break\n",
        "                    else:\n",
        "                        print('1번과 2번 중에 고르세요.')\n",
        "\n",
        "                self.order_menu.append(self.temp + ' ' + self.menu[n-1])\n",
        "                self.order_price.append(self.price[n-1])\n",
        "                print('추가 주문 음료', self.temp,self.menu[n-1], ':', self.price[n-1], '원\\n', '합계 : ', sum(self.order_price), '원')\n",
        "            else :\n",
        "                if n == 0 :  # 지불을 입력하면\n",
        "                    print(\"주문이 완료되었습니다.\")\n",
        "                    print('')\n",
        "                else :  # 없는 번호를 입력할 때\n",
        "                    print(\"없는 메뉴입니다. 다시 주문해 주세요.\")\n",
        "\n",
        "    def pay(self):\n",
        "        while True:\n",
        "            p = int(input('현금결제는 1번, 카드결제는 2번 >>>'))\n",
        "            if p == 1:\n",
        "                print('직원을 호출하겠습니다.\\n')\n",
        "                break\n",
        "            elif p ==2:\n",
        "                print('ic칩 방향에 맞게 카드를 꽂아주세요.\\n')\n",
        "                break\n",
        "            else:\n",
        "                print('다시 결제를 시도해 주세요.')\n",
        "\n",
        "        print('!!완료!!\\n')\n",
        "\n",
        "    def table(self):\n",
        "        t = int(input('영수증 출력 = 1 / 출력 x = 아무숫자>>'))\n",
        "        if t == 1:\n",
        "            time.sleep(1)\n",
        "            # 외곽\n",
        "            print('⟝' + '-' * 30 + '⟞')\n",
        "            for i in range(5):\n",
        "                print('|' + ' ' * 31 + '|')\n",
        "\n",
        "            # 주문 상품명 : 해당 금액\n",
        "            #for i in range(len(self.order_menu)):\n",
        "                #print(self.order_menu[i], ' : ', self.order_price[i])\n",
        "            for i, menu in enumerate(self.order_menu, start = 1):\n",
        "                print(i,menu, ' : ', self.order_price[int(i-1)])\n",
        "\n",
        "            print('합계 금액 :', sum(self.order_price) ,'\\n')\n",
        "\n",
        "            #현재 날짜와 시간 출력\n",
        "            now = datetime.datetime.now()\n",
        "            print('주문 시간 :', now.strftime('%Y-%m-%d %H:%M:%S'))\n",
        "\n",
        "            # 외곽\n",
        "            for i in range(5):\n",
        "                print('|' + ' ' * 31+ '|')\n",
        "            print('⟝' + '-' * 30 + '⟞')\n",
        "\n",
        "        else:\n",
        "            print('영수증을 출력하지 않습니다.')"
      ],
      "metadata": {
        "id": "3keB5zufYAYd"
      },
      "execution_count": null,
      "outputs": []
    },
    {
      "cell_type": "code",
      "source": [
        "#키오스크 생성\n",
        "a = Kiosk()  # 객체 생성\n",
        "a.menu_print()  # 메뉴 출력\n",
        "a.menu_select()\n",
        "a.pay()\n",
        "a.table()"
      ],
      "metadata": {
        "colab": {
          "base_uri": "https://localhost:8080/"
        },
        "id": "nx-AQEBuYICr",
        "outputId": "6885b916-8da3-44c1-803a-b4d6044ad30c"
      },
      "execution_count": null,
      "outputs": [
        {
          "output_type": "stream",
          "name": "stdout",
          "text": [
            "1 americano  :  2000 원\n",
            "2 latte  :  3000 원\n",
            "3 mocha  :  3000 원\n",
            "4 yuza_tea  :  2500 원\n",
            "5 green_tea  :  2500 원\n",
            "6 choco_latte  :  3000 원\n",
            "음료를 번호를 입력하세요 : 1\n",
            "HOT 음료는 1을, ICE 음료는 2를 입력하세요 : 2\n",
            "ice americano  :  2000 원\n",
            "\n",
            "추가 주문은 음료 번호를, 지불은 0을 누르세요 : 4\n",
            "hot =1 , ice = 2 입력하세요. : 2\n",
            "추가 주문 음료 ice yuza_tea : 2500 원\n",
            " 합계 :  4500 원\n",
            "\n",
            "추가 주문은 음료 번호를, 지불은 0을 누르세요 : 2\n",
            "hot =1 , ice = 2 입력하세요. : 2\n",
            "추가 주문 음료 ice latte : 3000 원\n",
            " 합계 :  7500 원\n",
            "\n",
            "추가 주문은 음료 번호를, 지불은 0을 누르세요 : 0\n",
            "주문이 완료되었습니다.\n",
            "\n",
            "현금결제는 1번, 카드결제는 2번 >>>1\n",
            "직원을 호출하겠습니다.\n",
            "\n",
            "!!완료!!\n",
            "\n",
            "영수증 출력 = 1 / 출력 x = 아무숫자>>2\n",
            "영수증을 출력하지 않습니다.\n"
          ]
        }
      ]
    }
  ]
}